{
 "cells": [
  {
   "cell_type": "markdown",
   "id": "ad7f27a0",
   "metadata": {},
   "source": [
    "# Forecast Clima SBC"
   ]
  },
  {
   "cell_type": "markdown",
   "id": "75764439",
   "metadata": {},
   "source": [
    "# Bibliotecas"
   ]
  },
  {
   "cell_type": "code",
   "execution_count": 1,
   "id": "daa12330",
   "metadata": {
    "ExecuteTime": {
     "end_time": "2021-11-09T00:23:09.211900Z",
     "start_time": "2021-11-09T00:23:08.038867Z"
    }
   },
   "outputs": [],
   "source": [
    "import pandas as pd\n",
    "import numpy as np\n",
    "import requests as req\n",
    "import json\n",
    "import psycopg2 as psy\n",
    "from datetime import datetime"
   ]
  },
  {
   "cell_type": "markdown",
   "id": "e181885c",
   "metadata": {},
   "source": [
    "# Key Clima Tempo + URL Previsão"
   ]
  },
  {
   "cell_type": "code",
   "execution_count": 2,
   "id": "5feb8823",
   "metadata": {
    "ExecuteTime": {
     "end_time": "2021-11-09T00:23:09.742512Z",
     "start_time": "2021-11-09T00:23:09.731534Z"
    }
   },
   "outputs": [],
   "source": [
    "key = 'b8cf67634e67abfea7f6e3eb09eaaa5a'\n",
    "url = \"http://apiadvisor.climatempo.com.br/api/v1/forecast/locale/3678/days/15?token=\"+key"
   ]
  },
  {
   "cell_type": "markdown",
   "id": "0544c095",
   "metadata": {
    "ExecuteTime": {
     "end_time": "2021-11-09T00:25:40.291227Z",
     "start_time": "2021-11-09T00:25:40.280259Z"
    }
   },
   "source": [
    "# Itera Dicionário"
   ]
  },
  {
   "cell_type": "code",
   "execution_count": 3,
   "id": "2ac8c148",
   "metadata": {
    "ExecuteTime": {
     "end_time": "2021-11-09T00:23:11.880962Z",
     "start_time": "2021-11-09T00:23:11.571985Z"
    }
   },
   "outputs": [],
   "source": [
    "requisicao = req.get(url)\n",
    "requisicao = requisicao.json()\n",
    "tamanho = len(requisicao['data'])\n",
    "\n",
    "for x in requisicao['data']:\n",
    "    x=json.dumps(x)\n",
    "    x = json.loads(x)\n",
    "    x = dataframe = pd.DataFrame.from_dict(x, orient=\"index\")\n",
    "    z = x.T\n",
    "    z.reset_index(drop=True)\n",
    "#     z.to_csv('clima.csv')"
   ]
  },
  {
   "cell_type": "code",
   "execution_count": 18,
   "id": "66f62ce9",
   "metadata": {
    "ExecuteTime": {
     "end_time": "2021-11-09T00:30:10.065401Z",
     "start_time": "2021-11-09T00:30:10.043179Z"
    }
   },
   "outputs": [
    {
     "name": "stdout",
     "output_type": "stream",
     "text": [
      "7\n"
     ]
    },
    {
     "data": {
      "text/html": [
       "<div>\n",
       "<style scoped>\n",
       "    .dataframe tbody tr th:only-of-type {\n",
       "        vertical-align: middle;\n",
       "    }\n",
       "\n",
       "    .dataframe tbody tr th {\n",
       "        vertical-align: top;\n",
       "    }\n",
       "\n",
       "    .dataframe thead th {\n",
       "        text-align: right;\n",
       "    }\n",
       "</style>\n",
       "<table border=\"1\" class=\"dataframe\">\n",
       "  <thead>\n",
       "    <tr style=\"text-align: right;\">\n",
       "      <th></th>\n",
       "      <th>0</th>\n",
       "    </tr>\n",
       "  </thead>\n",
       "  <tbody>\n",
       "    <tr>\n",
       "      <th>date</th>\n",
       "      <td>2021-11-14</td>\n",
       "    </tr>\n",
       "    <tr>\n",
       "      <th>date_br</th>\n",
       "      <td>14/11/2021</td>\n",
       "    </tr>\n",
       "    <tr>\n",
       "      <th>humidity</th>\n",
       "      <td>{'min': 59, 'max': 87, 'dawn': {'min': 84, 'ma...</td>\n",
       "    </tr>\n",
       "    <tr>\n",
       "      <th>pressure</th>\n",
       "      <td>{'pressure': 925.4}</td>\n",
       "    </tr>\n",
       "    <tr>\n",
       "      <th>rain</th>\n",
       "      <td>{'probability': 67, 'precipitation': 1}</td>\n",
       "    </tr>\n",
       "    <tr>\n",
       "      <th>wind</th>\n",
       "      <td>{'velocity_min': 10, 'velocity_max': 21, 'velo...</td>\n",
       "    </tr>\n",
       "    <tr>\n",
       "      <th>uv</th>\n",
       "      <td>{'max': 13.7}</td>\n",
       "    </tr>\n",
       "    <tr>\n",
       "      <th>thermal_sensation</th>\n",
       "      <td>{'min': 15, 'max': 22}</td>\n",
       "    </tr>\n",
       "    <tr>\n",
       "      <th>text_icon</th>\n",
       "      <td>{'icon': {'dawn': '4n', 'morning': '4', 'after...</td>\n",
       "    </tr>\n",
       "    <tr>\n",
       "      <th>temperature</th>\n",
       "      <td>{'min': 15, 'max': 22, 'dawn': {'min': 15, 'ma...</td>\n",
       "    </tr>\n",
       "    <tr>\n",
       "      <th>cloud_coverage</th>\n",
       "      <td>{'low': 42.5, 'mid': 0, 'high': 0, 'dawn': {'l...</td>\n",
       "    </tr>\n",
       "    <tr>\n",
       "      <th>sun</th>\n",
       "      <td>{'sunrise': '05:14:00', 'sunset': '18:28:00'}</td>\n",
       "    </tr>\n",
       "  </tbody>\n",
       "</table>\n",
       "</div>"
      ],
      "text/plain": [
       "                                                                   0\n",
       "date                                                      2021-11-14\n",
       "date_br                                                   14/11/2021\n",
       "humidity           {'min': 59, 'max': 87, 'dawn': {'min': 84, 'ma...\n",
       "pressure                                         {'pressure': 925.4}\n",
       "rain                         {'probability': 67, 'precipitation': 1}\n",
       "wind               {'velocity_min': 10, 'velocity_max': 21, 'velo...\n",
       "uv                                                     {'max': 13.7}\n",
       "thermal_sensation                             {'min': 15, 'max': 22}\n",
       "text_icon          {'icon': {'dawn': '4n', 'morning': '4', 'after...\n",
       "temperature        {'min': 15, 'max': 22, 'dawn': {'min': 15, 'ma...\n",
       "cloud_coverage     {'low': 42.5, 'mid': 0, 'high': 0, 'dawn': {'l...\n",
       "sun                    {'sunrise': '05:14:00', 'sunset': '18:28:00'}"
      ]
     },
     "execution_count": 18,
     "metadata": {},
     "output_type": "execute_result"
    }
   ],
   "source": [
    "print(len(requisicao['data']))\n",
    "x"
   ]
  }
 ],
 "metadata": {
  "kernelspec": {
   "display_name": "Python 3",
   "language": "python",
   "name": "python3"
  },
  "language_info": {
   "codemirror_mode": {
    "name": "ipython",
    "version": 3
   },
   "file_extension": ".py",
   "mimetype": "text/x-python",
   "name": "python",
   "nbconvert_exporter": "python",
   "pygments_lexer": "ipython3",
   "version": "3.8.8"
  }
 },
 "nbformat": 4,
 "nbformat_minor": 5
}
